{
 "cells": [
  {
   "cell_type": "markdown",
   "metadata": {},
   "source": [
    "# Week 2 Seminar\n",
    "\n",
    "Top-pop recommender, metrics"
   ]
  },
  {
   "cell_type": "code",
   "execution_count": 1,
   "metadata": {
    "tags": []
   },
   "outputs": [],
   "source": [
    "import json\n",
    "import random\n",
    "import copy\n",
    "from collections import namedtuple\n",
    "\n",
    "import pandas as pd\n",
    "import numpy as np\n",
    "import scipy.stats as ss\n",
    "\n",
    "import matplotlib.pyplot as plt\n",
    "\n",
    "%matplotlib inline"
   ]
  },
  {
   "cell_type": "code",
   "execution_count": 2,
   "metadata": {},
   "outputs": [
    {
     "data": {
      "text/html": [
       "<div>\n",
       "<style scoped>\n",
       "    .dataframe tbody tr th:only-of-type {\n",
       "        vertical-align: middle;\n",
       "    }\n",
       "\n",
       "    .dataframe tbody tr th {\n",
       "        vertical-align: top;\n",
       "    }\n",
       "\n",
       "    .dataframe thead th {\n",
       "        text-align: right;\n",
       "    }\n",
       "</style>\n",
       "<table border=\"1\" class=\"dataframe\">\n",
       "  <thead>\n",
       "    <tr style=\"text-align: right;\">\n",
       "      <th></th>\n",
       "      <th>message</th>\n",
       "      <th>timestamp</th>\n",
       "      <th>user</th>\n",
       "      <th>track</th>\n",
       "      <th>time</th>\n",
       "      <th>latency</th>\n",
       "      <th>recommendation</th>\n",
       "      <th>experiments</th>\n",
       "      <th>rnd</th>\n",
       "    </tr>\n",
       "  </thead>\n",
       "  <tbody>\n",
       "    <tr>\n",
       "      <th>0</th>\n",
       "      <td>next</td>\n",
       "      <td>2022-05-29 10:47:58.610</td>\n",
       "      <td>1984</td>\n",
       "      <td>1228</td>\n",
       "      <td>1.00</td>\n",
       "      <td>0.000977</td>\n",
       "      <td>39145.0</td>\n",
       "      <td>{'AA': 'T1'}</td>\n",
       "      <td>0.552989</td>\n",
       "    </tr>\n",
       "    <tr>\n",
       "      <th>1</th>\n",
       "      <td>next</td>\n",
       "      <td>2022-05-29 10:47:58.619</td>\n",
       "      <td>1984</td>\n",
       "      <td>39145</td>\n",
       "      <td>0.00</td>\n",
       "      <td>0.000600</td>\n",
       "      <td>11308.0</td>\n",
       "      <td>{'AA': 'T1'}</td>\n",
       "      <td>0.473802</td>\n",
       "    </tr>\n",
       "    <tr>\n",
       "      <th>2</th>\n",
       "      <td>next</td>\n",
       "      <td>2022-05-29 10:47:58.627</td>\n",
       "      <td>1984</td>\n",
       "      <td>11308</td>\n",
       "      <td>0.01</td>\n",
       "      <td>0.000765</td>\n",
       "      <td>28757.0</td>\n",
       "      <td>{'AA': 'T1'}</td>\n",
       "      <td>0.006427</td>\n",
       "    </tr>\n",
       "    <tr>\n",
       "      <th>3</th>\n",
       "      <td>next</td>\n",
       "      <td>2022-05-29 10:47:58.635</td>\n",
       "      <td>1984</td>\n",
       "      <td>28757</td>\n",
       "      <td>0.00</td>\n",
       "      <td>0.000707</td>\n",
       "      <td>40694.0</td>\n",
       "      <td>{'AA': 'T1'}</td>\n",
       "      <td>0.275458</td>\n",
       "    </tr>\n",
       "    <tr>\n",
       "      <th>4</th>\n",
       "      <td>next</td>\n",
       "      <td>2022-05-29 10:47:58.643</td>\n",
       "      <td>1984</td>\n",
       "      <td>40694</td>\n",
       "      <td>0.02</td>\n",
       "      <td>0.000620</td>\n",
       "      <td>10894.0</td>\n",
       "      <td>{'AA': 'T1'}</td>\n",
       "      <td>0.095716</td>\n",
       "    </tr>\n",
       "  </tbody>\n",
       "</table>\n",
       "</div>"
      ],
      "text/plain": [
       "  message               timestamp  user  track  time   latency  \\\n",
       "0    next 2022-05-29 10:47:58.610  1984   1228  1.00  0.000977   \n",
       "1    next 2022-05-29 10:47:58.619  1984  39145  0.00  0.000600   \n",
       "2    next 2022-05-29 10:47:58.627  1984  11308  0.01  0.000765   \n",
       "3    next 2022-05-29 10:47:58.635  1984  28757  0.00  0.000707   \n",
       "4    next 2022-05-29 10:47:58.643  1984  40694  0.02  0.000620   \n",
       "\n",
       "   recommendation   experiments       rnd  \n",
       "0         39145.0  {'AA': 'T1'}  0.552989  \n",
       "1         11308.0  {'AA': 'T1'}  0.473802  \n",
       "2         28757.0  {'AA': 'T1'}  0.006427  \n",
       "3         40694.0  {'AA': 'T1'}  0.275458  \n",
       "4         10894.0  {'AA': 'T1'}  0.095716  "
      ]
     },
     "execution_count": 2,
     "metadata": {},
     "output_type": "execute_result"
    }
   ],
   "source": [
    "data = pd.read_json(\"/Users/darya.nikanorova/recsys_course/log/random_10k/data.json\", lines=True)\n",
    "data[\"rnd\"] = np.random.random(len(data))\n",
    "\n",
    "data.head()"
   ]
  },
  {
   "cell_type": "markdown",
   "metadata": {},
   "source": [
    "## Compute track popularity"
   ]
  },
  {
   "cell_type": "code",
   "execution_count": 3,
   "metadata": {
    "tags": []
   },
   "outputs": [
    {
     "data": {
      "text/html": [
       "<div>\n",
       "<style scoped>\n",
       "    .dataframe tbody tr th:only-of-type {\n",
       "        vertical-align: middle;\n",
       "    }\n",
       "\n",
       "    .dataframe tbody tr th {\n",
       "        vertical-align: top;\n",
       "    }\n",
       "\n",
       "    .dataframe thead th {\n",
       "        text-align: right;\n",
       "    }\n",
       "</style>\n",
       "<table border=\"1\" class=\"dataframe\">\n",
       "  <thead>\n",
       "    <tr style=\"text-align: right;\">\n",
       "      <th></th>\n",
       "      <th>track</th>\n",
       "      <th>time</th>\n",
       "    </tr>\n",
       "  </thead>\n",
       "  <tbody>\n",
       "    <tr>\n",
       "      <th>0</th>\n",
       "      <td>159</td>\n",
       "      <td>15.00</td>\n",
       "    </tr>\n",
       "    <tr>\n",
       "      <th>1</th>\n",
       "      <td>2254</td>\n",
       "      <td>14.98</td>\n",
       "    </tr>\n",
       "    <tr>\n",
       "      <th>2</th>\n",
       "      <td>170</td>\n",
       "      <td>13.83</td>\n",
       "    </tr>\n",
       "    <tr>\n",
       "      <th>3</th>\n",
       "      <td>4186</td>\n",
       "      <td>12.82</td>\n",
       "    </tr>\n",
       "    <tr>\n",
       "      <th>4</th>\n",
       "      <td>156</td>\n",
       "      <td>12.00</td>\n",
       "    </tr>\n",
       "  </tbody>\n",
       "</table>\n",
       "</div>"
      ],
      "text/plain": [
       "   track   time\n",
       "0    159  15.00\n",
       "1   2254  14.98\n",
       "2    170  13.83\n",
       "3   4186  12.82\n",
       "4    156  12.00"
      ]
     },
     "execution_count": 3,
     "metadata": {},
     "output_type": "execute_result"
    }
   ],
   "source": [
    "track_popularity = (\n",
    "    data[data[\"rnd\"] > 0.5]\n",
    "    .groupby(\"track\")[\"time\"]\n",
    "    .sum()\n",
    "    .to_frame()\n",
    "    .sort_values(\"time\", ascending=False)\n",
    "    .reset_index()\n",
    ")\n",
    "\n",
    "track_popularity.head()"
   ]
  },
  {
   "cell_type": "code",
   "execution_count": 4,
   "metadata": {},
   "outputs": [
    {
     "data": {
      "text/plain": [
       "[<matplotlib.lines.Line2D at 0x7ff4618c8700>]"
      ]
     },
     "execution_count": 4,
     "metadata": {},
     "output_type": "execute_result"
    },
    {
     "data": {
      "image/png": "[encoded data removed]",
      "text/plain": [
       "<Figure size 1440x360 with 1 Axes>"
      ]
     },
     "metadata": {
      "needs_background": "light"
     },
     "output_type": "display_data"
    }
   ],
   "source": [
    "fig, ax = plt.subplots(figsize=(20, 5))\n",
    "\n",
    "ax.plot(track_popularity.index.values, track_popularity[\"time\"].values)"
   ]
  },
  {
   "cell_type": "markdown",
   "metadata": {},
   "source": [
    "## Compute offline metrics"
   ]
  },
  {
   "cell_type": "code",
   "execution_count": 5,
   "metadata": {},
   "outputs": [],
   "source": [
    "tracks = track_popularity[\"track\"].tolist()\n",
    "metrics = (\n",
    "    data[(data[\"rnd\"] <= 0.5) & (data[\"time\"] >= 0.75)]\n",
    "    .copy()\n",
    "    .reset_index()\n",
    "    .sort_values('time', ascending=False)\n",
    "    .drop_duplicates(subset=['user', 'track'])\n",
    ")"
   ]
  },
  {
   "cell_type": "code",
   "execution_count": 22,
   "metadata": {
    "tags": []
   },
   "outputs": [],
   "source": [
    "def precision_at(recommendations, track, k):\n",
    "    random.shuffle(recommendations)\n",
    "    return 1.0 / k * int(track in recommendations[:k])\n",
    "\n",
    "\n",
    "# TODO 1: Implement MRR here:\n",
    "\n",
    "\n",
    "# TODO 3: Implement Recall@k here:"
   ]
  },
  {
   "cell_type": "markdown",
   "metadata": {},
   "source": [
    "### 1. Precision@k"
   ]
  },
  {
   "cell_type": "code",
   "execution_count": 23,
   "metadata": {},
   "outputs": [],
   "source": [
    "sh_10_p_10_udf = lambda track: precision_at(tracks[:10], track, 10)\n",
    "sh_100_p_10_udf = lambda track: precision_at(tracks[:100], track, 10)\n",
    "sh_1000_p_10_udf = lambda track: precision_at(tracks[:1000], track, 10)"
   ]
  },
  {
   "cell_type": "code",
   "execution_count": 24,
   "metadata": {
    "tags": []
   },
   "outputs": [],
   "source": [
    "metrics[\"sh_10_p_10\"] = metrics[\"track\"].map(sh_10_p_10_udf)\n",
    "metrics[\"sh_100_p_10\"] = metrics[\"track\"].map(sh_100_p_10_udf)\n",
    "metrics[\"sh_1000_p_10\"] = metrics[\"track\"].map(sh_1000_p_10_udf)"
   ]
  },
  {
   "cell_type": "code",
   "execution_count": 25,
   "metadata": {},
   "outputs": [
    {
     "data": {
      "text/html": [
       "<div>\n",
       "<style scoped>\n",
       "    .dataframe tbody tr th:only-of-type {\n",
       "        vertical-align: middle;\n",
       "    }\n",
       "\n",
       "    .dataframe tbody tr th {\n",
       "        vertical-align: top;\n",
       "    }\n",
       "\n",
       "    .dataframe thead th {\n",
       "        text-align: right;\n",
       "    }\n",
       "</style>\n",
       "<table border=\"1\" class=\"dataframe\">\n",
       "  <thead>\n",
       "    <tr style=\"text-align: right;\">\n",
       "      <th></th>\n",
       "      <th>sh_10_p_10</th>\n",
       "      <th>sh_100_p_10</th>\n",
       "      <th>sh_1000_p_10</th>\n",
       "    </tr>\n",
       "  </thead>\n",
       "  <tbody>\n",
       "    <tr>\n",
       "      <th>count</th>\n",
       "      <td>4557.000000</td>\n",
       "      <td>4557.000000</td>\n",
       "      <td>4557.000000</td>\n",
       "    </tr>\n",
       "    <tr>\n",
       "      <th>mean</th>\n",
       "      <td>0.001580</td>\n",
       "      <td>0.000878</td>\n",
       "      <td>0.000132</td>\n",
       "    </tr>\n",
       "    <tr>\n",
       "      <th>std</th>\n",
       "      <td>0.012819</td>\n",
       "      <td>0.009329</td>\n",
       "      <td>0.003627</td>\n",
       "    </tr>\n",
       "    <tr>\n",
       "      <th>min</th>\n",
       "      <td>0.000000</td>\n",
       "      <td>0.000000</td>\n",
       "      <td>0.000000</td>\n",
       "    </tr>\n",
       "    <tr>\n",
       "      <th>25%</th>\n",
       "      <td>0.000000</td>\n",
       "      <td>0.000000</td>\n",
       "      <td>0.000000</td>\n",
       "    </tr>\n",
       "    <tr>\n",
       "      <th>50%</th>\n",
       "      <td>0.000000</td>\n",
       "      <td>0.000000</td>\n",
       "      <td>0.000000</td>\n",
       "    </tr>\n",
       "    <tr>\n",
       "      <th>75%</th>\n",
       "      <td>0.000000</td>\n",
       "      <td>0.000000</td>\n",
       "      <td>0.000000</td>\n",
       "    </tr>\n",
       "    <tr>\n",
       "      <th>max</th>\n",
       "      <td>0.200000</td>\n",
       "      <td>0.100000</td>\n",
       "      <td>0.100000</td>\n",
       "    </tr>\n",
       "  </tbody>\n",
       "</table>\n",
       "</div>"
      ],
      "text/plain": [
       "        sh_10_p_10  sh_100_p_10  sh_1000_p_10\n",
       "count  4557.000000  4557.000000   4557.000000\n",
       "mean      0.001580     0.000878      0.000132\n",
       "std       0.012819     0.009329      0.003627\n",
       "min       0.000000     0.000000      0.000000\n",
       "25%       0.000000     0.000000      0.000000\n",
       "50%       0.000000     0.000000      0.000000\n",
       "75%       0.000000     0.000000      0.000000\n",
       "max       0.200000     0.100000      0.100000"
      ]
     },
     "execution_count": 25,
     "metadata": {},
     "output_type": "execute_result"
    }
   ],
   "source": [
    "metrics.groupby(\"user\")[[\"sh_10_p_10\", \"sh_100_p_10\", \"sh_1000_p_10\"]].sum().describe()"
   ]
  },
  {
   "cell_type": "markdown",
   "metadata": {},
   "source": [
    "### 2. MRR"
   ]
  },
  {
   "cell_type": "code",
   "execution_count": 26,
   "metadata": {},
   "outputs": [],
   "source": [
    "# TODO 2: Apply MRR here:"
   ]
  },
  {
   "cell_type": "markdown",
   "metadata": {},
   "source": [
    "### 3. Recall@k"
   ]
  },
  {
   "cell_type": "code",
   "execution_count": 28,
   "metadata": {},
   "outputs": [],
   "source": [
    "# TODO 4: Apply Recall here:"
   ]
  },
  {
   "cell_type": "markdown",
   "metadata": {},
   "source": [
    "## Export data for prod"
   ]
  },
  {
   "cell_type": "code",
   "execution_count": 30,
   "metadata": {},
   "outputs": [],
   "source": [
    "with open(\"/Users/darya.nikanorova/recsys_course/import/top_tracks.json\", \"w\") as top_tracks_file:\n",
    "    json.dump(track_popularity[\"track\"].tolist(), top_tracks_file)"
   ]
  },
  {
   "cell_type": "code",
   "execution_count": null,
   "metadata": {},
   "outputs": [],
   "source": []
  }
 ],
 "metadata": {
  "kernelspec": {
   "display_name": "venv_made_2022",
   "language": "python",
   "name": "venv_made_2022"
  },
  "language_info": {
   "codemirror_mode": {
    "name": "ipython",
    "version": 3
   },
   "file_extension": ".py",
   "mimetype": "text/x-python",
   "name": "python",
   "nbconvert_exporter": "python",
   "pygments_lexer": "ipython3",
   "version": "3.9.7"
  }
 },
 "nbformat": 4,
 "nbformat_minor": 4
}
