{
 "cells": [
  {
   "cell_type": "markdown",
   "metadata": {},
   "source": [
    "# Week 2 Seminar\n",
    "\n",
    "Top-pop recommender, metrics"
   ]
  },
  {
   "cell_type": "code",
   "execution_count": 1,
   "metadata": {
    "tags": []
   },
   "outputs": [],
   "source": [
    "import json\n",
    "import random\n",
    "import copy\n",
    "from collections import namedtuple\n",
    "\n",
    "import pandas as pd\n",
    "import numpy as np\n",
    "import scipy.stats as ss\n",
    "\n",
    "import matplotlib.pyplot as plt\n",
    "\n",
    "%matplotlib inline"
   ]
  },
  {
   "cell_type": "code",
   "execution_count": 2,
   "metadata": {},
   "outputs": [
    {
     "data": {
      "text/html": [
       "<div>\n",
       "<style scoped>\n",
       "    .dataframe tbody tr th:only-of-type {\n",
       "        vertical-align: middle;\n",
       "    }\n",
       "\n",
       "    .dataframe tbody tr th {\n",
       "        vertical-align: top;\n",
       "    }\n",
       "\n",
       "    .dataframe thead th {\n",
       "        text-align: right;\n",
       "    }\n",
       "</style>\n",
       "<table border=\"1\" class=\"dataframe\">\n",
       "  <thead>\n",
       "    <tr style=\"text-align: right;\">\n",
       "      <th></th>\n",
       "      <th>message</th>\n",
       "      <th>timestamp</th>\n",
       "      <th>user</th>\n",
       "      <th>track</th>\n",
       "      <th>time</th>\n",
       "      <th>latency</th>\n",
       "      <th>recommendation</th>\n",
       "      <th>experiments</th>\n",
       "      <th>rnd</th>\n",
       "    </tr>\n",
       "  </thead>\n",
       "  <tbody>\n",
       "    <tr>\n",
       "      <th>0</th>\n",
       "      <td>next</td>\n",
       "      <td>2022-06-28 13:36:50.825</td>\n",
       "      <td>1984</td>\n",
       "      <td>1228</td>\n",
       "      <td>1.00</td>\n",
       "      <td>0.000581</td>\n",
       "      <td>6446.0</td>\n",
       "      <td>{'AA': 'T1', 'RECOMMENDERS': 'T3'}</td>\n",
       "      <td>0.576015</td>\n",
       "    </tr>\n",
       "    <tr>\n",
       "      <th>1</th>\n",
       "      <td>next</td>\n",
       "      <td>2022-06-28 13:36:50.828</td>\n",
       "      <td>1984</td>\n",
       "      <td>6446</td>\n",
       "      <td>0.80</td>\n",
       "      <td>0.000322</td>\n",
       "      <td>7443.0</td>\n",
       "      <td>{'AA': 'T1', 'RECOMMENDERS': 'T3'}</td>\n",
       "      <td>0.985098</td>\n",
       "    </tr>\n",
       "    <tr>\n",
       "      <th>2</th>\n",
       "      <td>next</td>\n",
       "      <td>2022-06-28 13:36:50.831</td>\n",
       "      <td>1984</td>\n",
       "      <td>7443</td>\n",
       "      <td>0.64</td>\n",
       "      <td>0.000452</td>\n",
       "      <td>36419.0</td>\n",
       "      <td>{'AA': 'T1', 'RECOMMENDERS': 'T3'}</td>\n",
       "      <td>0.358342</td>\n",
       "    </tr>\n",
       "    <tr>\n",
       "      <th>3</th>\n",
       "      <td>next</td>\n",
       "      <td>2022-06-28 13:36:50.834</td>\n",
       "      <td>1984</td>\n",
       "      <td>36419</td>\n",
       "      <td>0.51</td>\n",
       "      <td>0.000328</td>\n",
       "      <td>35722.0</td>\n",
       "      <td>{'AA': 'T1', 'RECOMMENDERS': 'T3'}</td>\n",
       "      <td>0.875841</td>\n",
       "    </tr>\n",
       "    <tr>\n",
       "      <th>4</th>\n",
       "      <td>next</td>\n",
       "      <td>2022-06-28 13:36:50.838</td>\n",
       "      <td>1984</td>\n",
       "      <td>35722</td>\n",
       "      <td>0.41</td>\n",
       "      <td>0.000427</td>\n",
       "      <td>20892.0</td>\n",
       "      <td>{'AA': 'T1', 'RECOMMENDERS': 'T3'}</td>\n",
       "      <td>0.340605</td>\n",
       "    </tr>\n",
       "  </tbody>\n",
       "</table>\n",
       "</div>"
      ],
      "text/plain": [
       "  message               timestamp  user  track  time   latency  \\\n",
       "0    next 2022-06-28 13:36:50.825  1984   1228  1.00  0.000581   \n",
       "1    next 2022-06-28 13:36:50.828  1984   6446  0.80  0.000322   \n",
       "2    next 2022-06-28 13:36:50.831  1984   7443  0.64  0.000452   \n",
       "3    next 2022-06-28 13:36:50.834  1984  36419  0.51  0.000328   \n",
       "4    next 2022-06-28 13:36:50.838  1984  35722  0.41  0.000427   \n",
       "\n",
       "   recommendation                         experiments       rnd  \n",
       "0          6446.0  {'AA': 'T1', 'RECOMMENDERS': 'T3'}  0.576015  \n",
       "1          7443.0  {'AA': 'T1', 'RECOMMENDERS': 'T3'}  0.985098  \n",
       "2         36419.0  {'AA': 'T1', 'RECOMMENDERS': 'T3'}  0.358342  \n",
       "3         35722.0  {'AA': 'T1', 'RECOMMENDERS': 'T3'}  0.875841  \n",
       "4         20892.0  {'AA': 'T1', 'RECOMMENDERS': 'T3'}  0.340605  "
      ]
     },
     "execution_count": 2,
     "metadata": {},
     "output_type": "execute_result"
    }
   ],
   "source": [
    "data = pd.read_json(\"/home/nikolay/Documents/made/semester2/recsys-made-2022/tmp/data.json\", lines=True)\n",
    "data[\"rnd\"] = np.random.random(len(data))\n",
    "\n",
    "data.head()"
   ]
  },
  {
   "cell_type": "markdown",
   "metadata": {},
   "source": [
    "## Compute track popularity"
   ]
  },
  {
   "cell_type": "code",
   "execution_count": 3,
   "metadata": {
    "tags": []
   },
   "outputs": [
    {
     "data": {
      "text/html": [
       "<div>\n",
       "<style scoped>\n",
       "    .dataframe tbody tr th:only-of-type {\n",
       "        vertical-align: middle;\n",
       "    }\n",
       "\n",
       "    .dataframe tbody tr th {\n",
       "        vertical-align: top;\n",
       "    }\n",
       "\n",
       "    .dataframe thead th {\n",
       "        text-align: right;\n",
       "    }\n",
       "</style>\n",
       "<table border=\"1\" class=\"dataframe\">\n",
       "  <thead>\n",
       "    <tr style=\"text-align: right;\">\n",
       "      <th></th>\n",
       "      <th>track</th>\n",
       "      <th>time</th>\n",
       "    </tr>\n",
       "  </thead>\n",
       "  <tbody>\n",
       "    <tr>\n",
       "      <th>0</th>\n",
       "      <td>175</td>\n",
       "      <td>10.38</td>\n",
       "    </tr>\n",
       "    <tr>\n",
       "      <th>1</th>\n",
       "      <td>1115</td>\n",
       "      <td>9.77</td>\n",
       "    </tr>\n",
       "    <tr>\n",
       "      <th>2</th>\n",
       "      <td>246</td>\n",
       "      <td>9.39</td>\n",
       "    </tr>\n",
       "    <tr>\n",
       "      <th>3</th>\n",
       "      <td>1476</td>\n",
       "      <td>8.26</td>\n",
       "    </tr>\n",
       "    <tr>\n",
       "      <th>4</th>\n",
       "      <td>171</td>\n",
       "      <td>7.86</td>\n",
       "    </tr>\n",
       "  </tbody>\n",
       "</table>\n",
       "</div>"
      ],
      "text/plain": [
       "   track   time\n",
       "0    175  10.38\n",
       "1   1115   9.77\n",
       "2    246   9.39\n",
       "3   1476   8.26\n",
       "4    171   7.86"
      ]
     },
     "execution_count": 3,
     "metadata": {},
     "output_type": "execute_result"
    }
   ],
   "source": [
    "track_popularity = (\n",
    "    data[data[\"rnd\"] > 0.5]\n",
    "    .groupby(\"track\")[\"time\"]\n",
    "    .sum()\n",
    "    .to_frame()\n",
    "    .sort_values(\"time\", ascending=False)\n",
    "    .reset_index()\n",
    ")\n",
    "\n",
    "track_popularity.head()"
   ]
  },
  {
   "cell_type": "code",
   "execution_count": 4,
   "metadata": {},
   "outputs": [
    {
     "data": {
      "text/plain": [
       "[<matplotlib.lines.Line2D at 0x7fd672dd7f50>]"
      ]
     },
     "execution_count": 4,
     "metadata": {},
     "output_type": "execute_result"
    },
    {
     "data": {
      "image/png": "[encoded data removed]",
      "text/plain": [
       "<Figure size 1440x360 with 1 Axes>"
      ]
     },
     "metadata": {
      "needs_background": "light"
     },
     "output_type": "display_data"
    }
   ],
   "source": [
    "fig, ax = plt.subplots(figsize=(20, 5))\n",
    "\n",
    "ax.plot(track_popularity.index.values, track_popularity[\"time\"].values)"
   ]
  },
  {
   "cell_type": "markdown",
   "metadata": {},
   "source": [
    "## Compute offline metrics"
   ]
  },
  {
   "cell_type": "code",
   "execution_count": 5,
   "metadata": {},
   "outputs": [],
   "source": [
    "tracks = track_popularity[\"track\"].tolist()\n",
    "metrics = data[(data[\"rnd\"] <= 0.5) & (data[\"time\"] >= 0.75)].copy()"
   ]
  },
  {
   "cell_type": "code",
   "execution_count": 6,
   "metadata": {
    "tags": []
   },
   "outputs": [],
   "source": [
    "def precision_at(recommendations, track, k):\n",
    "    return 1.0 / k * int(track in recommendations[:k])\n",
    "\n",
    "\n",
    "def shuffled_precision_at(recommendations, track, k):\n",
    "    shuffled = list(recommendations)\n",
    "    random.shuffle(shuffled)\n",
    "    return precision_at(shuffled, track, k)\n",
    "\n",
    "\n",
    "# TODO 1: Implement MRR here:\n",
    "def mrr(recommendations, track):\n",
    "    return 1.0 / (1.0 + recommendations.index(track)) if track in recommendations else 0.0\n",
    "\n",
    "def shuffled_mrr(recommendations, track):\n",
    "    shuffled = list(recommendations)\n",
    "    random.shuffle(shuffled)\n",
    "    return mrr(shuffled, track)"
   ]
  },
  {
   "cell_type": "markdown",
   "metadata": {},
   "source": [
    "### 1. Precision@k"
   ]
  },
  {
   "cell_type": "code",
   "execution_count": 7,
   "metadata": {},
   "outputs": [],
   "source": [
    "p_10_udf = lambda track: precision_at(tracks[:10], track, 10)\n",
    "sh_10_p_10_udf = lambda track: shuffled_precision_at(tracks[:10], track, 10)\n",
    "sh_100_p_10_udf = lambda track: shuffled_precision_at(tracks[:100], track, 10)\n",
    "sh_1000_p_10_udf = lambda track: shuffled_precision_at(tracks[:1000], track, 10)"
   ]
  },
  {
   "cell_type": "code",
   "execution_count": 8,
   "metadata": {
    "tags": []
   },
   "outputs": [],
   "source": [
    "metrics[\"p_10\"] = metrics[\"track\"].map(p_10_udf)\n",
    "metrics[\"sh_10_p_10\"] = metrics[\"track\"].map(sh_10_p_10_udf)\n",
    "metrics[\"sh_100_p_10\"] = metrics[\"track\"].map(sh_100_p_10_udf)\n",
    "metrics[\"sh_1000_p_10\"] = metrics[\"track\"].map(sh_1000_p_10_udf)"
   ]
  },
  {
   "cell_type": "code",
   "execution_count": 9,
   "metadata": {},
   "outputs": [
    {
     "data": {
      "text/html": [
       "<div>\n",
       "<style scoped>\n",
       "    .dataframe tbody tr th:only-of-type {\n",
       "        vertical-align: middle;\n",
       "    }\n",
       "\n",
       "    .dataframe tbody tr th {\n",
       "        vertical-align: top;\n",
       "    }\n",
       "\n",
       "    .dataframe thead th {\n",
       "        text-align: right;\n",
       "    }\n",
       "</style>\n",
       "<table border=\"1\" class=\"dataframe\">\n",
       "  <thead>\n",
       "    <tr style=\"text-align: right;\">\n",
       "      <th></th>\n",
       "      <th>p_10</th>\n",
       "      <th>sh_10_p_10</th>\n",
       "      <th>sh_100_p_10</th>\n",
       "      <th>sh_1000_p_10</th>\n",
       "    </tr>\n",
       "  </thead>\n",
       "  <tbody>\n",
       "    <tr>\n",
       "      <th>count</th>\n",
       "      <td>1343.000000</td>\n",
       "      <td>1343.000000</td>\n",
       "      <td>1343.000000</td>\n",
       "      <td>1343.000000</td>\n",
       "    </tr>\n",
       "    <tr>\n",
       "      <th>mean</th>\n",
       "      <td>0.003276</td>\n",
       "      <td>0.003276</td>\n",
       "      <td>0.002159</td>\n",
       "      <td>0.000298</td>\n",
       "    </tr>\n",
       "    <tr>\n",
       "      <th>std</th>\n",
       "      <td>0.017808</td>\n",
       "      <td>0.017808</td>\n",
       "      <td>0.014541</td>\n",
       "      <td>0.005451</td>\n",
       "    </tr>\n",
       "    <tr>\n",
       "      <th>min</th>\n",
       "      <td>0.000000</td>\n",
       "      <td>0.000000</td>\n",
       "      <td>0.000000</td>\n",
       "      <td>0.000000</td>\n",
       "    </tr>\n",
       "    <tr>\n",
       "      <th>25%</th>\n",
       "      <td>0.000000</td>\n",
       "      <td>0.000000</td>\n",
       "      <td>0.000000</td>\n",
       "      <td>0.000000</td>\n",
       "    </tr>\n",
       "    <tr>\n",
       "      <th>50%</th>\n",
       "      <td>0.000000</td>\n",
       "      <td>0.000000</td>\n",
       "      <td>0.000000</td>\n",
       "      <td>0.000000</td>\n",
       "    </tr>\n",
       "    <tr>\n",
       "      <th>75%</th>\n",
       "      <td>0.000000</td>\n",
       "      <td>0.000000</td>\n",
       "      <td>0.000000</td>\n",
       "      <td>0.000000</td>\n",
       "    </tr>\n",
       "    <tr>\n",
       "      <th>max</th>\n",
       "      <td>0.100000</td>\n",
       "      <td>0.100000</td>\n",
       "      <td>0.100000</td>\n",
       "      <td>0.100000</td>\n",
       "    </tr>\n",
       "  </tbody>\n",
       "</table>\n",
       "</div>"
      ],
      "text/plain": [
       "              p_10   sh_10_p_10  sh_100_p_10  sh_1000_p_10\n",
       "count  1343.000000  1343.000000  1343.000000   1343.000000\n",
       "mean      0.003276     0.003276     0.002159      0.000298\n",
       "std       0.017808     0.017808     0.014541      0.005451\n",
       "min       0.000000     0.000000     0.000000      0.000000\n",
       "25%       0.000000     0.000000     0.000000      0.000000\n",
       "50%       0.000000     0.000000     0.000000      0.000000\n",
       "75%       0.000000     0.000000     0.000000      0.000000\n",
       "max       0.100000     0.100000     0.100000      0.100000"
      ]
     },
     "execution_count": 9,
     "metadata": {},
     "output_type": "execute_result"
    }
   ],
   "source": [
    "metrics[[\"p_10\", \"sh_10_p_10\", \"sh_100_p_10\", \"sh_1000_p_10\"]].describe()"
   ]
  },
  {
   "cell_type": "markdown",
   "metadata": {},
   "source": [
    "### 2. MRR"
   ]
  },
  {
   "cell_type": "code",
   "execution_count": 10,
   "metadata": {},
   "outputs": [],
   "source": [
    "# TODO 2: Apply MRR here:\n",
    "mrr_10_udf = lambda track: mrr(tracks[:10], track)\n",
    "sh_10_mrr_10_udf = lambda track: shuffled_mrr(tracks[:10], track)\n",
    "sh_100_mrr_10_udf = lambda track: shuffled_mrr(tracks[:100], track)\n",
    "sh_1000_mrr_10_udf = lambda track: shuffled_mrr(tracks[:1000], track)"
   ]
  },
  {
   "cell_type": "code",
   "execution_count": 11,
   "metadata": {},
   "outputs": [],
   "source": [
    "metrics[\"mrr_10\"] = metrics[\"track\"].map(mrr_10_udf)\n",
    "metrics[\"sh_10_mrr_10\"] = metrics[\"track\"].map(sh_10_mrr_10_udf)\n",
    "metrics[\"sh_100_mrr_10\"] = metrics[\"track\"].map(sh_100_mrr_10_udf)\n",
    "metrics[\"sh_1000_mrr_10\"] = metrics[\"track\"].map(sh_1000_mrr_10_udf)"
   ]
  },
  {
   "cell_type": "code",
   "execution_count": 12,
   "metadata": {},
   "outputs": [
    {
     "data": {
      "text/html": [
       "<div>\n",
       "<style scoped>\n",
       "    .dataframe tbody tr th:only-of-type {\n",
       "        vertical-align: middle;\n",
       "    }\n",
       "\n",
       "    .dataframe tbody tr th {\n",
       "        vertical-align: top;\n",
       "    }\n",
       "\n",
       "    .dataframe thead th {\n",
       "        text-align: right;\n",
       "    }\n",
       "</style>\n",
       "<table border=\"1\" class=\"dataframe\">\n",
       "  <thead>\n",
       "    <tr style=\"text-align: right;\">\n",
       "      <th></th>\n",
       "      <th>mrr_10</th>\n",
       "      <th>sh_10_mrr_10</th>\n",
       "      <th>sh_100_mrr_10</th>\n",
       "      <th>sh_1000_mrr_10</th>\n",
       "    </tr>\n",
       "  </thead>\n",
       "  <tbody>\n",
       "    <tr>\n",
       "      <th>count</th>\n",
       "      <td>1343.000000</td>\n",
       "      <td>1343.000000</td>\n",
       "      <td>1343.000000</td>\n",
       "      <td>1343.000000</td>\n",
       "    </tr>\n",
       "    <tr>\n",
       "      <th>mean</th>\n",
       "      <td>0.009099</td>\n",
       "      <td>0.010355</td>\n",
       "      <td>0.010772</td>\n",
       "      <td>0.003201</td>\n",
       "    </tr>\n",
       "    <tr>\n",
       "      <th>std</th>\n",
       "      <td>0.064486</td>\n",
       "      <td>0.077791</td>\n",
       "      <td>0.058668</td>\n",
       "      <td>0.021506</td>\n",
       "    </tr>\n",
       "    <tr>\n",
       "      <th>min</th>\n",
       "      <td>0.000000</td>\n",
       "      <td>0.000000</td>\n",
       "      <td>0.000000</td>\n",
       "      <td>0.000000</td>\n",
       "    </tr>\n",
       "    <tr>\n",
       "      <th>25%</th>\n",
       "      <td>0.000000</td>\n",
       "      <td>0.000000</td>\n",
       "      <td>0.000000</td>\n",
       "      <td>0.000000</td>\n",
       "    </tr>\n",
       "    <tr>\n",
       "      <th>50%</th>\n",
       "      <td>0.000000</td>\n",
       "      <td>0.000000</td>\n",
       "      <td>0.000000</td>\n",
       "      <td>0.000000</td>\n",
       "    </tr>\n",
       "    <tr>\n",
       "      <th>75%</th>\n",
       "      <td>0.000000</td>\n",
       "      <td>0.000000</td>\n",
       "      <td>0.000000</td>\n",
       "      <td>0.001832</td>\n",
       "    </tr>\n",
       "    <tr>\n",
       "      <th>max</th>\n",
       "      <td>1.000000</td>\n",
       "      <td>1.000000</td>\n",
       "      <td>1.000000</td>\n",
       "      <td>0.500000</td>\n",
       "    </tr>\n",
       "  </tbody>\n",
       "</table>\n",
       "</div>"
      ],
      "text/plain": [
       "            mrr_10  sh_10_mrr_10  sh_100_mrr_10  sh_1000_mrr_10\n",
       "count  1343.000000   1343.000000    1343.000000     1343.000000\n",
       "mean      0.009099      0.010355       0.010772        0.003201\n",
       "std       0.064486      0.077791       0.058668        0.021506\n",
       "min       0.000000      0.000000       0.000000        0.000000\n",
       "25%       0.000000      0.000000       0.000000        0.000000\n",
       "50%       0.000000      0.000000       0.000000        0.000000\n",
       "75%       0.000000      0.000000       0.000000        0.001832\n",
       "max       1.000000      1.000000       1.000000        0.500000"
      ]
     },
     "execution_count": 12,
     "metadata": {},
     "output_type": "execute_result"
    }
   ],
   "source": [
    "metrics[[\"mrr_10\", \"sh_10_mrr_10\", \"sh_100_mrr_10\", \"sh_1000_mrr_10\"]].describe()"
   ]
  },
  {
   "cell_type": "markdown",
   "metadata": {},
   "source": [
    "## Export data for prod"
   ]
  },
  {
   "cell_type": "code",
   "execution_count": 17,
   "metadata": {},
   "outputs": [],
   "source": [
    "with open(\"/home/nikolay/Documents/made/semester2/recsys-made-2022/import/top_tracks.json\", \"w\") as top_tracks_file:\n",
    "    json.dump(track_popularity[\"track\"].tolist(), top_tracks_file)"
   ]
  },
  {
   "cell_type": "code",
   "execution_count": 18,
   "metadata": {},
   "outputs": [
    {
     "data": {
      "text/plain": [
       "2429"
      ]
     },
     "execution_count": 18,
     "metadata": {},
     "output_type": "execute_result"
    }
   ],
   "source": [
    "len(tracks)"
   ]
  },
  {
   "cell_type": "code",
   "execution_count": null,
   "metadata": {},
   "outputs": [],
   "source": []
  }
 ],
 "metadata": {
  "kernelspec": {
   "display_name": "Python 3 (ipykernel)",
   "language": "python",
   "name": "python3"
  },
  "language_info": {
   "codemirror_mode": {
    "name": "ipython",
    "version": 3
   },
   "file_extension": ".py",
   "mimetype": "text/x-python",
   "name": "python",
   "nbconvert_exporter": "python",
   "pygments_lexer": "ipython3",
   "version": "3.7.13"
  }
 },
 "nbformat": 4,
 "nbformat_minor": 4
}
