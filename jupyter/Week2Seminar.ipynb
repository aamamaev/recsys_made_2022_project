{
 "cells": [
  {
   "cell_type": "markdown",
   "metadata": {},
   "source": [
    "# Week 2 Seminar\n",
    "\n",
    "Top-pop recommender, metrics"
   ]
  },
  {
   "cell_type": "code",
   "execution_count": 8,
   "metadata": {
    "tags": []
   },
   "outputs": [],
   "source": [
    "import json\n",
    "import random\n",
    "import copy\n",
    "from collections import namedtuple\n",
    "\n",
    "import pandas as pd\n",
    "import numpy as np\n",
    "import scipy.stats as ss\n",
    "\n",
    "import matplotlib.pyplot as plt\n",
    "\n",
    "%matplotlib inline"
   ]
  },
  {
   "cell_type": "code",
   "execution_count": 2,
   "metadata": {},
   "outputs": [
    {
     "data": {
      "text/html": [
       "<div>\n",
       "<style scoped>\n",
       "    .dataframe tbody tr th:only-of-type {\n",
       "        vertical-align: middle;\n",
       "    }\n",
       "\n",
       "    .dataframe tbody tr th {\n",
       "        vertical-align: top;\n",
       "    }\n",
       "\n",
       "    .dataframe thead th {\n",
       "        text-align: right;\n",
       "    }\n",
       "</style>\n",
       "<table border=\"1\" class=\"dataframe\">\n",
       "  <thead>\n",
       "    <tr style=\"text-align: right;\">\n",
       "      <th></th>\n",
       "      <th>message</th>\n",
       "      <th>timestamp</th>\n",
       "      <th>user</th>\n",
       "      <th>track</th>\n",
       "      <th>time</th>\n",
       "      <th>latency</th>\n",
       "      <th>recommendation</th>\n",
       "      <th>experiments</th>\n",
       "      <th>rnd</th>\n",
       "    </tr>\n",
       "  </thead>\n",
       "  <tbody>\n",
       "    <tr>\n",
       "      <th>0</th>\n",
       "      <td>next</td>\n",
       "      <td>2022-05-29 10:47:58.610</td>\n",
       "      <td>1984</td>\n",
       "      <td>1228</td>\n",
       "      <td>1.00</td>\n",
       "      <td>0.000977</td>\n",
       "      <td>39145.0</td>\n",
       "      <td>{'AA': 'T1'}</td>\n",
       "      <td>0.516156</td>\n",
       "    </tr>\n",
       "    <tr>\n",
       "      <th>1</th>\n",
       "      <td>next</td>\n",
       "      <td>2022-05-29 10:47:58.619</td>\n",
       "      <td>1984</td>\n",
       "      <td>39145</td>\n",
       "      <td>0.00</td>\n",
       "      <td>0.000600</td>\n",
       "      <td>11308.0</td>\n",
       "      <td>{'AA': 'T1'}</td>\n",
       "      <td>0.631624</td>\n",
       "    </tr>\n",
       "    <tr>\n",
       "      <th>2</th>\n",
       "      <td>next</td>\n",
       "      <td>2022-05-29 10:47:58.627</td>\n",
       "      <td>1984</td>\n",
       "      <td>11308</td>\n",
       "      <td>0.01</td>\n",
       "      <td>0.000765</td>\n",
       "      <td>28757.0</td>\n",
       "      <td>{'AA': 'T1'}</td>\n",
       "      <td>0.837511</td>\n",
       "    </tr>\n",
       "    <tr>\n",
       "      <th>3</th>\n",
       "      <td>next</td>\n",
       "      <td>2022-05-29 10:47:58.635</td>\n",
       "      <td>1984</td>\n",
       "      <td>28757</td>\n",
       "      <td>0.00</td>\n",
       "      <td>0.000707</td>\n",
       "      <td>40694.0</td>\n",
       "      <td>{'AA': 'T1'}</td>\n",
       "      <td>0.014758</td>\n",
       "    </tr>\n",
       "    <tr>\n",
       "      <th>4</th>\n",
       "      <td>next</td>\n",
       "      <td>2022-05-29 10:47:58.643</td>\n",
       "      <td>1984</td>\n",
       "      <td>40694</td>\n",
       "      <td>0.02</td>\n",
       "      <td>0.000620</td>\n",
       "      <td>10894.0</td>\n",
       "      <td>{'AA': 'T1'}</td>\n",
       "      <td>0.280000</td>\n",
       "    </tr>\n",
       "  </tbody>\n",
       "</table>\n",
       "</div>"
      ],
      "text/plain": [
       "  message               timestamp  user  track  time   latency  \\\n",
       "0    next 2022-05-29 10:47:58.610  1984   1228  1.00  0.000977   \n",
       "1    next 2022-05-29 10:47:58.619  1984  39145  0.00  0.000600   \n",
       "2    next 2022-05-29 10:47:58.627  1984  11308  0.01  0.000765   \n",
       "3    next 2022-05-29 10:47:58.635  1984  28757  0.00  0.000707   \n",
       "4    next 2022-05-29 10:47:58.643  1984  40694  0.02  0.000620   \n",
       "\n",
       "   recommendation   experiments       rnd  \n",
       "0         39145.0  {'AA': 'T1'}  0.516156  \n",
       "1         11308.0  {'AA': 'T1'}  0.631624  \n",
       "2         28757.0  {'AA': 'T1'}  0.837511  \n",
       "3         40694.0  {'AA': 'T1'}  0.014758  \n",
       "4         10894.0  {'AA': 'T1'}  0.280000  "
      ]
     },
     "execution_count": 2,
     "metadata": {},
     "output_type": "execute_result"
    }
   ],
   "source": [
    "data = pd.read_json(\"/Users/darya.nikanorova/recsys_course/log/random_10k/data_seminar3.json\", lines=True)\n",
    "data[\"rnd\"] = np.random.random(len(data))\n",
    "\n",
    "data.head()"
   ]
  },
  {
   "cell_type": "markdown",
   "metadata": {},
   "source": [
    "## Compute track popularity"
   ]
  },
  {
   "cell_type": "code",
   "execution_count": 3,
   "metadata": {
    "tags": []
   },
   "outputs": [
    {
     "data": {
      "text/html": [
       "<div>\n",
       "<style scoped>\n",
       "    .dataframe tbody tr th:only-of-type {\n",
       "        vertical-align: middle;\n",
       "    }\n",
       "\n",
       "    .dataframe tbody tr th {\n",
       "        vertical-align: top;\n",
       "    }\n",
       "\n",
       "    .dataframe thead th {\n",
       "        text-align: right;\n",
       "    }\n",
       "</style>\n",
       "<table border=\"1\" class=\"dataframe\">\n",
       "  <thead>\n",
       "    <tr style=\"text-align: right;\">\n",
       "      <th></th>\n",
       "      <th>track</th>\n",
       "      <th>time</th>\n",
       "    </tr>\n",
       "  </thead>\n",
       "  <tbody>\n",
       "    <tr>\n",
       "      <th>0</th>\n",
       "      <td>2254</td>\n",
       "      <td>14.00</td>\n",
       "    </tr>\n",
       "    <tr>\n",
       "      <th>1</th>\n",
       "      <td>424</td>\n",
       "      <td>13.48</td>\n",
       "    </tr>\n",
       "    <tr>\n",
       "      <th>2</th>\n",
       "      <td>171</td>\n",
       "      <td>13.00</td>\n",
       "    </tr>\n",
       "    <tr>\n",
       "      <th>3</th>\n",
       "      <td>246</td>\n",
       "      <td>12.13</td>\n",
       "    </tr>\n",
       "    <tr>\n",
       "      <th>4</th>\n",
       "      <td>159</td>\n",
       "      <td>11.00</td>\n",
       "    </tr>\n",
       "  </tbody>\n",
       "</table>\n",
       "</div>"
      ],
      "text/plain": [
       "   track   time\n",
       "0   2254  14.00\n",
       "1    424  13.48\n",
       "2    171  13.00\n",
       "3    246  12.13\n",
       "4    159  11.00"
      ]
     },
     "execution_count": 3,
     "metadata": {},
     "output_type": "execute_result"
    }
   ],
   "source": [
    "track_popularity = (\n",
    "    data[data[\"rnd\"] > 0.5]\n",
    "    .groupby(\"track\")[\"time\"]\n",
    "    .sum()\n",
    "    .to_frame()\n",
    "    .sort_values(\"time\", ascending=False)\n",
    "    .reset_index()\n",
    ")\n",
    "\n",
    "track_popularity.head()"
   ]
  },
  {
   "cell_type": "code",
   "execution_count": 4,
   "metadata": {},
   "outputs": [
    {
     "data": {
      "text/plain": [
       "[<matplotlib.lines.Line2D at 0x7feb88dce430>]"
      ]
     },
     "execution_count": 4,
     "metadata": {},
     "output_type": "execute_result"
    },
    {
     "data": {
      "image/png": "[encoded data removed]",
      "text/plain": [
       "<Figure size 1440x360 with 1 Axes>"
      ]
     },
     "metadata": {
      "needs_background": "light"
     },
     "output_type": "display_data"
    }
   ],
   "source": [
    "fig, ax = plt.subplots(figsize=(20, 5))\n",
    "\n",
    "ax.plot(track_popularity.index.values, track_popularity[\"time\"].values)"
   ]
  },
  {
   "cell_type": "markdown",
   "metadata": {},
   "source": [
    "## Compute offline metrics"
   ]
  },
  {
   "cell_type": "code",
   "execution_count": 5,
   "metadata": {},
   "outputs": [],
   "source": [
    "tracks = track_popularity[\"track\"].tolist()\n",
    "metrics = data[(data[\"rnd\"] <= 0.5) & (data[\"time\"] >= 0.75)].copy()"
   ]
  },
  {
   "cell_type": "code",
   "execution_count": 20,
   "metadata": {
    "tags": []
   },
   "outputs": [],
   "source": [
    "def precision_at(recommendations, track, k):\n",
    "    return 1.0 / k * int(track in recommendations[:k])\n",
    "\n",
    "\n",
    "def shuffled_precision_at(recommendations, track, k):\n",
    "    shuffled = list(recommendations)\n",
    "    random.shuffle(shuffled)\n",
    "    return precision_at(shuffled, track, k)\n",
    "\n",
    "\n",
    "# TODO 1: Implement MRR here:\n",
    "def mrr(recommendations, track):\n",
    "    return 1.0 / (1.0 + recommendations.index(track)) if track in recommendations else 0.0\n",
    "\n",
    "def shuffled_mrr(recommendations, track):\n",
    "    shuffled = list(recommendations)\n",
    "    random.shuffle(shuffled)\n",
    "    return mrr(shuffled, track)"
   ]
  },
  {
   "cell_type": "markdown",
   "metadata": {},
   "source": [
    "### 1. Precision@k"
   ]
  },
  {
   "cell_type": "code",
   "execution_count": 11,
   "metadata": {},
   "outputs": [],
   "source": [
    "p_10_udf = lambda track: precision_at(tracks[:10], track, 10)\n",
    "sh_10_p_10_udf = lambda track: shuffled_precision_at(tracks[:10], track, 10)\n",
    "sh_100_p_10_udf = lambda track: shuffled_precision_at(tracks[:100], track, 10)\n",
    "sh_1000_p_10_udf = lambda track: shuffled_precision_at(tracks[:1000], track, 10)"
   ]
  },
  {
   "cell_type": "code",
   "execution_count": 12,
   "metadata": {
    "tags": []
   },
   "outputs": [],
   "source": [
    "metrics[\"p_10\"] = metrics[\"track\"].map(p_10_udf)\n",
    "metrics[\"sh_10_p_10\"] = metrics[\"track\"].map(sh_10_p_10_udf)\n",
    "metrics[\"sh_100_p_10\"] = metrics[\"track\"].map(sh_100_p_10_udf)\n",
    "metrics[\"sh_1000_p_10\"] = metrics[\"track\"].map(sh_1000_p_10_udf)"
   ]
  },
  {
   "cell_type": "code",
   "execution_count": 13,
   "metadata": {},
   "outputs": [
    {
     "data": {
      "text/html": [
       "<div>\n",
       "<style scoped>\n",
       "    .dataframe tbody tr th:only-of-type {\n",
       "        vertical-align: middle;\n",
       "    }\n",
       "\n",
       "    .dataframe tbody tr th {\n",
       "        vertical-align: top;\n",
       "    }\n",
       "\n",
       "    .dataframe thead th {\n",
       "        text-align: right;\n",
       "    }\n",
       "</style>\n",
       "<table border=\"1\" class=\"dataframe\">\n",
       "  <thead>\n",
       "    <tr style=\"text-align: right;\">\n",
       "      <th></th>\n",
       "      <th>p_10</th>\n",
       "      <th>sh_10_p_10</th>\n",
       "      <th>sh_100_p_10</th>\n",
       "      <th>sh_1000_p_10</th>\n",
       "    </tr>\n",
       "  </thead>\n",
       "  <tbody>\n",
       "    <tr>\n",
       "      <th>count</th>\n",
       "      <td>8322.000000</td>\n",
       "      <td>8322.000000</td>\n",
       "      <td>8322.000000</td>\n",
       "      <td>8322.000000</td>\n",
       "    </tr>\n",
       "    <tr>\n",
       "      <th>mean</th>\n",
       "      <td>0.000889</td>\n",
       "      <td>0.000889</td>\n",
       "      <td>0.000565</td>\n",
       "      <td>0.000192</td>\n",
       "    </tr>\n",
       "    <tr>\n",
       "      <th>std</th>\n",
       "      <td>0.009388</td>\n",
       "      <td>0.009388</td>\n",
       "      <td>0.007494</td>\n",
       "      <td>0.004381</td>\n",
       "    </tr>\n",
       "    <tr>\n",
       "      <th>min</th>\n",
       "      <td>0.000000</td>\n",
       "      <td>0.000000</td>\n",
       "      <td>0.000000</td>\n",
       "      <td>0.000000</td>\n",
       "    </tr>\n",
       "    <tr>\n",
       "      <th>25%</th>\n",
       "      <td>0.000000</td>\n",
       "      <td>0.000000</td>\n",
       "      <td>0.000000</td>\n",
       "      <td>0.000000</td>\n",
       "    </tr>\n",
       "    <tr>\n",
       "      <th>50%</th>\n",
       "      <td>0.000000</td>\n",
       "      <td>0.000000</td>\n",
       "      <td>0.000000</td>\n",
       "      <td>0.000000</td>\n",
       "    </tr>\n",
       "    <tr>\n",
       "      <th>75%</th>\n",
       "      <td>0.000000</td>\n",
       "      <td>0.000000</td>\n",
       "      <td>0.000000</td>\n",
       "      <td>0.000000</td>\n",
       "    </tr>\n",
       "    <tr>\n",
       "      <th>max</th>\n",
       "      <td>0.100000</td>\n",
       "      <td>0.100000</td>\n",
       "      <td>0.100000</td>\n",
       "      <td>0.100000</td>\n",
       "    </tr>\n",
       "  </tbody>\n",
       "</table>\n",
       "</div>"
      ],
      "text/plain": [
       "              p_10   sh_10_p_10  sh_100_p_10  sh_1000_p_10\n",
       "count  8322.000000  8322.000000  8322.000000   8322.000000\n",
       "mean      0.000889     0.000889     0.000565      0.000192\n",
       "std       0.009388     0.009388     0.007494      0.004381\n",
       "min       0.000000     0.000000     0.000000      0.000000\n",
       "25%       0.000000     0.000000     0.000000      0.000000\n",
       "50%       0.000000     0.000000     0.000000      0.000000\n",
       "75%       0.000000     0.000000     0.000000      0.000000\n",
       "max       0.100000     0.100000     0.100000      0.100000"
      ]
     },
     "execution_count": 13,
     "metadata": {},
     "output_type": "execute_result"
    }
   ],
   "source": [
    "metrics[[\"p_10\", \"sh_10_p_10\", \"sh_100_p_10\", \"sh_1000_p_10\"]].describe()"
   ]
  },
  {
   "cell_type": "markdown",
   "metadata": {},
   "source": [
    "### 2. MRR"
   ]
  },
  {
   "cell_type": "code",
   "execution_count": 21,
   "metadata": {},
   "outputs": [],
   "source": [
    "# TODO 2: Apply MRR here:\n",
    "mrr_10_udf = lambda track: mrr(tracks[:10], track)\n",
    "sh_10_mrr_10_udf = lambda track: shuffled_mrr(tracks[:10], track)\n",
    "sh_100_mrr_10_udf = lambda track: shuffled_mrr(tracks[:100], track)\n",
    "sh_1000_mrr_10_udf = lambda track: shuffled_mrr(tracks[:1000], track)"
   ]
  },
  {
   "cell_type": "code",
   "execution_count": 22,
   "metadata": {},
   "outputs": [],
   "source": [
    "metrics[\"mrr_10\"] = metrics[\"track\"].map(mrr_10_udf)\n",
    "metrics[\"sh_10_mrr_10\"] = metrics[\"track\"].map(sh_10_mrr_10_udf)\n",
    "metrics[\"sh_100_mrr_10\"] = metrics[\"track\"].map(sh_100_mrr_10_udf)\n",
    "metrics[\"sh_1000_mrr_10\"] = metrics[\"track\"].map(sh_1000_mrr_10_udf)"
   ]
  },
  {
   "cell_type": "code",
   "execution_count": 23,
   "metadata": {},
   "outputs": [
    {
     "data": {
      "text/html": [
       "<div>\n",
       "<style scoped>\n",
       "    .dataframe tbody tr th:only-of-type {\n",
       "        vertical-align: middle;\n",
       "    }\n",
       "\n",
       "    .dataframe tbody tr th {\n",
       "        vertical-align: top;\n",
       "    }\n",
       "\n",
       "    .dataframe thead th {\n",
       "        text-align: right;\n",
       "    }\n",
       "</style>\n",
       "<table border=\"1\" class=\"dataframe\">\n",
       "  <thead>\n",
       "    <tr style=\"text-align: right;\">\n",
       "      <th></th>\n",
       "      <th>mrr_10</th>\n",
       "      <th>sh_10_mrr_10</th>\n",
       "      <th>sh_100_mrr_10</th>\n",
       "      <th>sh_1000_mrr_10</th>\n",
       "    </tr>\n",
       "  </thead>\n",
       "  <tbody>\n",
       "    <tr>\n",
       "      <th>count</th>\n",
       "      <td>8322.000000</td>\n",
       "      <td>8322.000000</td>\n",
       "      <td>8322.000000</td>\n",
       "      <td>8322.000000</td>\n",
       "    </tr>\n",
       "    <tr>\n",
       "      <th>mean</th>\n",
       "      <td>0.002967</td>\n",
       "      <td>0.002924</td>\n",
       "      <td>0.002564</td>\n",
       "      <td>0.001259</td>\n",
       "    </tr>\n",
       "    <tr>\n",
       "      <th>std</th>\n",
       "      <td>0.042938</td>\n",
       "      <td>0.040915</td>\n",
       "      <td>0.030150</td>\n",
       "      <td>0.016114</td>\n",
       "    </tr>\n",
       "    <tr>\n",
       "      <th>min</th>\n",
       "      <td>0.000000</td>\n",
       "      <td>0.000000</td>\n",
       "      <td>0.000000</td>\n",
       "      <td>0.000000</td>\n",
       "    </tr>\n",
       "    <tr>\n",
       "      <th>25%</th>\n",
       "      <td>0.000000</td>\n",
       "      <td>0.000000</td>\n",
       "      <td>0.000000</td>\n",
       "      <td>0.000000</td>\n",
       "    </tr>\n",
       "    <tr>\n",
       "      <th>50%</th>\n",
       "      <td>0.000000</td>\n",
       "      <td>0.000000</td>\n",
       "      <td>0.000000</td>\n",
       "      <td>0.000000</td>\n",
       "    </tr>\n",
       "    <tr>\n",
       "      <th>75%</th>\n",
       "      <td>0.000000</td>\n",
       "      <td>0.000000</td>\n",
       "      <td>0.000000</td>\n",
       "      <td>0.000000</td>\n",
       "    </tr>\n",
       "    <tr>\n",
       "      <th>max</th>\n",
       "      <td>1.000000</td>\n",
       "      <td>1.000000</td>\n",
       "      <td>1.000000</td>\n",
       "      <td>1.000000</td>\n",
       "    </tr>\n",
       "  </tbody>\n",
       "</table>\n",
       "</div>"
      ],
      "text/plain": [
       "            mrr_10  sh_10_mrr_10  sh_100_mrr_10  sh_1000_mrr_10\n",
       "count  8322.000000   8322.000000    8322.000000     8322.000000\n",
       "mean      0.002967      0.002924       0.002564        0.001259\n",
       "std       0.042938      0.040915       0.030150        0.016114\n",
       "min       0.000000      0.000000       0.000000        0.000000\n",
       "25%       0.000000      0.000000       0.000000        0.000000\n",
       "50%       0.000000      0.000000       0.000000        0.000000\n",
       "75%       0.000000      0.000000       0.000000        0.000000\n",
       "max       1.000000      1.000000       1.000000        1.000000"
      ]
     },
     "execution_count": 23,
     "metadata": {},
     "output_type": "execute_result"
    }
   ],
   "source": [
    "metrics[[\"mrr_10\", \"sh_10_mrr_10\", \"sh_100_mrr_10\", \"sh_1000_mrr_10\"]].describe()"
   ]
  },
  {
   "cell_type": "markdown",
   "metadata": {},
   "source": [
    "## Export data for prod"
   ]
  },
  {
   "cell_type": "code",
   "execution_count": 24,
   "metadata": {},
   "outputs": [],
   "source": [
    "with open(\"/Users/darya.nikanorova/recsys_course/import/top_tracks.json\", \"w\") as top_tracks_file:\n",
    "    json.dump(track_popularity[\"track\"].tolist(), top_tracks_file)"
   ]
  },
  {
   "cell_type": "code",
   "execution_count": 25,
   "metadata": {},
   "outputs": [
    {
     "data": {
      "text/plain": [
       "24280"
      ]
     },
     "execution_count": 25,
     "metadata": {},
     "output_type": "execute_result"
    }
   ],
   "source": [
    "len(tracks)"
   ]
  },
  {
   "cell_type": "code",
   "execution_count": null,
   "metadata": {},
   "outputs": [],
   "source": []
  }
 ],
 "metadata": {
  "kernelspec": {
   "display_name": "venv_made_2022",
   "language": "python",
   "name": "venv_made_2022"
  },
  "language_info": {
   "codemirror_mode": {
    "name": "ipython",
    "version": 3
   },
   "file_extension": ".py",
   "mimetype": "text/x-python",
   "name": "python",
   "nbconvert_exporter": "python",
   "pygments_lexer": "ipython3",
   "version": "3.9.7"
  }
 },
 "nbformat": 4,
 "nbformat_minor": 4
}
