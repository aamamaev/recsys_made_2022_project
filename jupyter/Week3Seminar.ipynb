{
 "cells": [
  {
   "cell_type": "markdown",
   "metadata": {},
   "source": [
    "# Week 3 Seminar\n",
    "\n",
    "Collaborative Filtering recommender"
   ]
  },
  {
   "cell_type": "code",
   "execution_count": 21,
   "metadata": {},
   "outputs": [],
   "source": [
    "import pandas as pd\n",
    "import numpy as np\n",
    "import scipy.stats as ss\n",
    "\n",
    "import lightfm\n",
    "import lightfm.data as ld\n",
    "import lightfm.evaluation as lv\n",
    "\n",
    "import tqdm\n",
    "import json\n",
    "import optuna\n",
    "\n",
    "import tensorboardX as tb\n",
    "\n",
    "import matplotlib.pyplot as pl\n",
    "import seaborn as sns\n",
    "\n",
    "np.random.seed(31337)"
   ]
  },
  {
   "cell_type": "code",
   "execution_count": 22,
   "metadata": {},
   "outputs": [],
   "source": [
    "DATA_DIR = \"/Users/darya.nikanorova/recsys_course/seminar_03/\""
   ]
  },
  {
   "cell_type": "code",
   "execution_count": 23,
   "metadata": {},
   "outputs": [],
   "source": [
    "data = pd.read_json(DATA_DIR + \"data.json\", lines=True).drop_duplicates(subset=[\"user\", \"track\"])"
   ]
  },
  {
   "cell_type": "code",
   "execution_count": 25,
   "metadata": {},
   "outputs": [],
   "source": [
    "positives = data[data[\"time\"] > 0.8].copy()\n",
    "positives[\"test\"] = np.random.random(len(positives)) >= 0.7"
   ]
  },
  {
   "cell_type": "code",
   "execution_count": 26,
   "metadata": {},
   "outputs": [],
   "source": [
    "user_counts = positives[~positives[\"test\"]].groupby(\"user\").size()\n",
    "users = set(user_counts[user_counts >= 5].index.values)"
   ]
  },
  {
   "cell_type": "code",
   "execution_count": null,
   "metadata": {},
   "outputs": [],
   "source": [
    "track_counts = positives[~positives[\"test\"]].groupby(\"track\").size()\n",
    "tracks = set(track_counts[track_counts >= 5].index.values)"
   ]
  },
  {
   "cell_type": "markdown",
   "metadata": {},
   "source": [
    "## Train LightFM"
   ]
  },
  {
   "cell_type": "code",
   "execution_count": 27,
   "metadata": {},
   "outputs": [
    {
     "data": {
      "text/plain": [
       "(47057, 16492)"
      ]
     },
     "execution_count": 27,
     "metadata": {},
     "output_type": "execute_result"
    }
   ],
   "source": [
    "train_data = positives[~positives[\"test\"] & positives[\"user\"].isin(users) & positives[\"track\"].isin(tracks)]\n",
    "test_data = positives[positives[\"test\"] & positives[\"user\"].isin(users) & positives[\"track\"].isin(tracks)]\n",
    "\n",
    "len(train_data), len(test_data)"
   ]
  },
  {
   "cell_type": "code",
   "execution_count": 28,
   "metadata": {},
   "outputs": [],
   "source": [
    "dataset = ld.Dataset()\n",
    "dataset.fit(users, tracks)"
   ]
  },
  {
   "cell_type": "code",
   "execution_count": 29,
   "metadata": {},
   "outputs": [],
   "source": [
    "train_interactions, _ = dataset.build_interactions(train_data[[\"user\", \"track\"]].itertuples(index=False, name=None))\n",
    "test_interactions, _ = dataset.build_interactions(test_data[[\"user\", \"track\"]].itertuples(index=False, name=None))"
   ]
  },
  {
   "cell_type": "code",
   "execution_count": 30,
   "metadata": {},
   "outputs": [],
   "source": [
    "def fit_model(epochs=1, at=10, loss=\"warp\", no_components=30, learning_rate=0.01, max_sampled=10, user_alpha=0.0, item_alpha=0.0, threads=30, verbose=False):\n",
    "    model = lightfm.LightFM(\n",
    "        no_components=no_components,\n",
    "        loss=loss,\n",
    "        learning_rate=learning_rate,\n",
    "        max_sampled=max_sampled,\n",
    "        user_alpha=user_alpha,\n",
    "        item_alpha=item_alpha,\n",
    "    )\n",
    "\n",
    "    precisions_at = []\n",
    "    \n",
    "    for epoch in range(epochs):\n",
    "        model = model.fit_partial(train_interactions, num_threads=threads)\n",
    "        precision_at = lv.precision_at_k(model, test_interactions, train_interactions=train_interactions, k=at, num_threads=threads)\n",
    "        if verbose:\n",
    "            print(f\"{epoch}:\\t{np.mean(precision_at)} +/- {ss.sem(precision_at) * 1.96}\")\n",
    "        precisions_at.append(np.mean(precision_at))\n",
    "        \n",
    "    return model, precisions_at\n",
    "\n",
    "\n",
    "def objective(trial):\n",
    "    loss = trial.suggest_categorical(\"loss\", [\"warp\", \"bpr\"])\n",
    "    no_components = trial.suggest_categorical(\"no_components\", [10, 30, 50])\n",
    "    learning_rate = trial.suggest_categorical(\"learning_rate\", [0.0001, 0.001, 0.01])\n",
    "    max_sampled = trial.suggest_categorical(\"max_sampled\", [10, 20, 50, 100])\n",
    "    user_alpha = trial.suggest_categorical(\"user_alpha\", [0.0, 0.0001])\n",
    "    item_alpha = trial.suggest_categorical(\"item_alpha\", [0.0, 0.0001])\n",
    "    \n",
    "    model, precisions_at = fit_model(\n",
    "        epochs=5, \n",
    "        at=10,\n",
    "        loss=loss,\n",
    "        no_components=no_components, \n",
    "        learning_rate=learning_rate, \n",
    "        max_sampled=max_sampled, \n",
    "        user_alpha=user_alpha, \n",
    "        item_alpha=item_alpha,\n",
    "    )\n",
    "    \n",
    "    return precisions_at[-1]"
   ]
  },
  {
   "cell_type": "code",
   "execution_count": 31,
   "metadata": {},
   "outputs": [
    {
     "name": "stderr",
     "output_type": "stream",
     "text": [
      "\u001b[32m[I 2022-06-09 21:17:02,121]\u001b[0m A new study created in memory with name: no-name-983ea872-f6c1-4215-964d-9e6f1e2f0356\u001b[0m\n",
      "\u001b[32m[I 2022-06-09 21:17:09,865]\u001b[0m Trial 0 finished with value: 0.0005541701102629304 and parameters: {'loss': 'bpr', 'no_components': 10, 'learning_rate': 0.01, 'max_sampled': 100, 'user_alpha': 0.0001, 'item_alpha': 0.0001}. Best is trial 0 with value: 0.0005541701102629304.\u001b[0m\n",
      "\u001b[32m[I 2022-06-09 21:17:17,499]\u001b[0m Trial 1 finished with value: 0.001898032845929265 and parameters: {'loss': 'warp', 'no_components': 10, 'learning_rate': 0.0001, 'max_sampled': 20, 'user_alpha': 0.0001, 'item_alpha': 0.0}. Best is trial 1 with value: 0.001898032845929265.\u001b[0m\n",
      "\u001b[32m[I 2022-06-09 21:17:29,177]\u001b[0m Trial 2 finished with value: 0.0076198396272957325 and parameters: {'loss': 'warp', 'no_components': 30, 'learning_rate': 0.01, 'max_sampled': 100, 'user_alpha': 0.0, 'item_alpha': 0.0}. Best is trial 2 with value: 0.0076198396272957325.\u001b[0m\n",
      "\u001b[32m[I 2022-06-09 21:17:40,996]\u001b[0m Trial 3 finished with value: 0.006650041788816452 and parameters: {'loss': 'warp', 'no_components': 30, 'learning_rate': 0.001, 'max_sampled': 10, 'user_alpha': 0.0, 'item_alpha': 0.0001}. Best is trial 2 with value: 0.0076198396272957325.\u001b[0m\n",
      "\u001b[32m[I 2022-06-09 21:17:48,879]\u001b[0m Trial 4 finished with value: 0.0005957329412922263 and parameters: {'loss': 'bpr', 'no_components': 10, 'learning_rate': 0.001, 'max_sampled': 50, 'user_alpha': 0.0, 'item_alpha': 0.0001}. Best is trial 2 with value: 0.0076198396272957325.\u001b[0m\n",
      "\u001b[32m[I 2022-06-09 21:18:00,739]\u001b[0m Trial 5 finished with value: 0.007273483090102673 and parameters: {'loss': 'warp', 'no_components': 30, 'learning_rate': 0.01, 'max_sampled': 20, 'user_alpha': 0.0001, 'item_alpha': 0.0001}. Best is trial 2 with value: 0.0076198396272957325.\u001b[0m\n",
      "\u001b[32m[I 2022-06-09 21:18:12,827]\u001b[0m Trial 6 finished with value: 0.0008174009271897376 and parameters: {'loss': 'bpr', 'no_components': 50, 'learning_rate': 0.001, 'max_sampled': 50, 'user_alpha': 0.0, 'item_alpha': 0.0}. Best is trial 2 with value: 0.0076198396272957325.\u001b[0m\n",
      "\u001b[32m[I 2022-06-09 21:18:24,688]\u001b[0m Trial 7 finished with value: 0.0013438626192510128 and parameters: {'loss': 'bpr', 'no_components': 30, 'learning_rate': 0.01, 'max_sampled': 20, 'user_alpha': 0.0001, 'item_alpha': 0.0001}. Best is trial 2 with value: 0.0076198396272957325.\u001b[0m\n",
      "\u001b[32m[I 2022-06-09 21:18:38,070]\u001b[0m Trial 8 finished with value: 0.0011083402205258608 and parameters: {'loss': 'bpr', 'no_components': 30, 'learning_rate': 0.01, 'max_sampled': 50, 'user_alpha': 0.0001, 'item_alpha': 0.0}. Best is trial 2 with value: 0.0076198396272957325.\u001b[0m\n",
      "\u001b[32m[I 2022-06-09 21:18:50,783]\u001b[0m Trial 9 finished with value: 0.0008174009271897376 and parameters: {'loss': 'bpr', 'no_components': 50, 'learning_rate': 0.01, 'max_sampled': 20, 'user_alpha': 0.0001, 'item_alpha': 0.0001}. Best is trial 2 with value: 0.0076198396272957325.\u001b[0m\n",
      "\u001b[32m[I 2022-06-09 21:19:02,716]\u001b[0m Trial 10 finished with value: 0.005721807014197111 and parameters: {'loss': 'warp', 'no_components': 30, 'learning_rate': 0.0001, 'max_sampled': 100, 'user_alpha': 0.0, 'item_alpha': 0.0}. Best is trial 2 with value: 0.0076198396272957325.\u001b[0m\n",
      "\u001b[32m[I 2022-06-09 21:19:14,843]\u001b[0m Trial 11 finished with value: 0.00723192049190402 and parameters: {'loss': 'warp', 'no_components': 30, 'learning_rate': 0.01, 'max_sampled': 100, 'user_alpha': 0.0, 'item_alpha': 0.0}. Best is trial 2 with value: 0.0076198396272957325.\u001b[0m\n",
      "\u001b[32m[I 2022-06-09 21:19:26,931]\u001b[0m Trial 12 finished with value: 0.006927126552909613 and parameters: {'loss': 'warp', 'no_components': 30, 'learning_rate': 0.01, 'max_sampled': 10, 'user_alpha': 0.0001, 'item_alpha': 0.0001}. Best is trial 2 with value: 0.0076198396272957325.\u001b[0m\n",
      "\u001b[32m[I 2022-06-09 21:19:38,686]\u001b[0m Trial 13 finished with value: 0.007495150901377201 and parameters: {'loss': 'warp', 'no_components': 30, 'learning_rate': 0.01, 'max_sampled': 100, 'user_alpha': 0.0, 'item_alpha': 0.0}. Best is trial 2 with value: 0.0076198396272957325.\u001b[0m\n",
      "\u001b[32m[I 2022-06-09 21:19:50,336]\u001b[0m Trial 14 finished with value: 0.007938487455248833 and parameters: {'loss': 'warp', 'no_components': 30, 'learning_rate': 0.01, 'max_sampled': 100, 'user_alpha': 0.0, 'item_alpha': 0.0}. Best is trial 14 with value: 0.007938487455248833.\u001b[0m\n",
      "\u001b[32m[I 2022-06-09 21:20:01,360]\u001b[0m Trial 15 finished with value: 0.006705458741635084 and parameters: {'loss': 'warp', 'no_components': 50, 'learning_rate': 0.0001, 'max_sampled': 100, 'user_alpha': 0.0, 'item_alpha': 0.0}. Best is trial 14 with value: 0.007938487455248833.\u001b[0m\n",
      "\u001b[32m[I 2022-06-09 21:20:13,075]\u001b[0m Trial 16 finished with value: 0.006996397860348225 and parameters: {'loss': 'warp', 'no_components': 30, 'learning_rate': 0.01, 'max_sampled': 100, 'user_alpha': 0.0, 'item_alpha': 0.0}. Best is trial 14 with value: 0.007938487455248833.\u001b[0m\n",
      "\u001b[32m[I 2022-06-09 21:20:24,649]\u001b[0m Trial 17 finished with value: 0.007328900042921305 and parameters: {'loss': 'warp', 'no_components': 30, 'learning_rate': 0.01, 'max_sampled': 100, 'user_alpha': 0.0, 'item_alpha': 0.0}. Best is trial 14 with value: 0.007938487455248833.\u001b[0m\n",
      "\u001b[32m[I 2022-06-09 21:20:35,519]\u001b[0m Trial 18 finished with value: 0.00627597700804472 and parameters: {'loss': 'warp', 'no_components': 50, 'learning_rate': 0.0001, 'max_sampled': 100, 'user_alpha': 0.0, 'item_alpha': 0.0}. Best is trial 14 with value: 0.007938487455248833.\u001b[0m\n",
      "\u001b[32m[I 2022-06-09 21:20:42,899]\u001b[0m Trial 19 finished with value: 0.006511499173939228 and parameters: {'loss': 'warp', 'no_components': 10, 'learning_rate': 0.001, 'max_sampled': 10, 'user_alpha': 0.0, 'item_alpha': 0.0}. Best is trial 14 with value: 0.007938487455248833.\u001b[0m\n",
      "\u001b[32m[I 2022-06-09 21:20:54,504]\u001b[0m Trial 20 finished with value: 0.0073427543975412846 and parameters: {'loss': 'warp', 'no_components': 30, 'learning_rate': 0.01, 'max_sampled': 100, 'user_alpha': 0.0, 'item_alpha': 0.0}. Best is trial 14 with value: 0.007938487455248833.\u001b[0m\n",
      "\u001b[32m[I 2022-06-09 21:21:06,401]\u001b[0m Trial 21 finished with value: 0.007315046153962612 and parameters: {'loss': 'warp', 'no_components': 30, 'learning_rate': 0.01, 'max_sampled': 100, 'user_alpha': 0.0, 'item_alpha': 0.0}. Best is trial 14 with value: 0.007938487455248833.\u001b[0m\n",
      "\u001b[32m[I 2022-06-09 21:21:18,291]\u001b[0m Trial 22 finished with value: 0.007605985272675753 and parameters: {'loss': 'warp', 'no_components': 30, 'learning_rate': 0.01, 'max_sampled': 100, 'user_alpha': 0.0, 'item_alpha': 0.0}. Best is trial 14 with value: 0.007938487455248833.\u001b[0m\n",
      "\u001b[32m[I 2022-06-09 21:21:29,993]\u001b[0m Trial 23 finished with value: 0.007259628735482693 and parameters: {'loss': 'warp', 'no_components': 30, 'learning_rate': 0.01, 'max_sampled': 100, 'user_alpha': 0.0, 'item_alpha': 0.0}. Best is trial 14 with value: 0.007938487455248833.\u001b[0m\n",
      "\u001b[32m[I 2022-06-09 21:21:41,647]\u001b[0m Trial 24 finished with value: 0.007273483090102673 and parameters: {'loss': 'warp', 'no_components': 30, 'learning_rate': 0.01, 'max_sampled': 100, 'user_alpha': 0.0, 'item_alpha': 0.0}. Best is trial 14 with value: 0.007938487455248833.\u001b[0m\n",
      "\u001b[32m[I 2022-06-09 21:21:53,844]\u001b[0m Trial 25 finished with value: 0.007509005255997181 and parameters: {'loss': 'warp', 'no_components': 30, 'learning_rate': 0.01, 'max_sampled': 100, 'user_alpha': 0.0, 'item_alpha': 0.0}. Best is trial 14 with value: 0.007938487455248833.\u001b[0m\n",
      "\u001b[32m[I 2022-06-09 21:22:05,284]\u001b[0m Trial 26 finished with value: 0.007689110469073057 and parameters: {'loss': 'warp', 'no_components': 30, 'learning_rate': 0.01, 'max_sampled': 100, 'user_alpha': 0.0, 'item_alpha': 0.0}. Best is trial 14 with value: 0.007938487455248833.\u001b[0m\n",
      "\u001b[32m[I 2022-06-09 21:22:17,087]\u001b[0m Trial 27 finished with value: 0.007370462641119957 and parameters: {'loss': 'warp', 'no_components': 30, 'learning_rate': 0.01, 'max_sampled': 10, 'user_alpha': 0.0, 'item_alpha': 0.0}. Best is trial 14 with value: 0.007938487455248833.\u001b[0m\n",
      "\u001b[32m[I 2022-06-09 21:22:24,900]\u001b[0m Trial 28 finished with value: 0.0022305347956717014 and parameters: {'loss': 'warp', 'no_components': 10, 'learning_rate': 0.0001, 'max_sampled': 50, 'user_alpha': 0.0, 'item_alpha': 0.0}. Best is trial 14 with value: 0.007938487455248833.\u001b[0m\n",
      "\u001b[32m[I 2022-06-09 21:22:36,401]\u001b[0m Trial 29 finished with value: 0.0013577169738709927 and parameters: {'loss': 'bpr', 'no_components': 50, 'learning_rate': 0.001, 'max_sampled': 100, 'user_alpha': 0.0, 'item_alpha': 0.0}. Best is trial 14 with value: 0.007938487455248833.\u001b[0m\n"
     ]
    }
   ],
   "source": [
    "study = optuna.create_study(direction=\"maximize\")\n",
    "study.optimize(objective, n_trials=30)\n",
    "best_params = study.best_params"
   ]
  },
  {
   "cell_type": "code",
   "execution_count": 32,
   "metadata": {},
   "outputs": [
    {
     "data": {
      "text/plain": [
       "{'loss': 'warp',\n",
       " 'no_components': 30,\n",
       " 'learning_rate': 0.01,\n",
       " 'max_sampled': 100,\n",
       " 'user_alpha': 0.0,\n",
       " 'item_alpha': 0.0}"
      ]
     },
     "execution_count": 32,
     "metadata": {},
     "output_type": "execute_result"
    }
   ],
   "source": [
    "best_params"
   ]
  },
  {
   "cell_type": "code",
   "execution_count": null,
   "metadata": {},
   "outputs": [],
   "source": [
    "best_params = {'loss': 'warp',\n",
    " 'no_components': 50,\n",
    " 'learning_rate': 0.01,\n",
    " 'max_sampled': 20,\n",
    " 'user_alpha': 0.0,\n",
    " 'item_alpha': 0.0}"
   ]
  },
  {
   "cell_type": "code",
   "execution_count": 33,
   "metadata": {
    "tags": []
   },
   "outputs": [
    {
     "name": "stdout",
     "output_type": "stream",
     "text": [
      "0:\t0.006012746132910252 +/- 0.0006298279901329524\n",
      "1:\t0.006082017440348864 +/- 0.0006347239169210811\n",
      "2:\t0.006386810448020697 +/- 0.0006526293827894393\n",
      "3:\t0.006691604852676392 +/- 0.0006699828402712587\n",
      "4:\t0.006940980441868305 +/- 0.0006892682841347364\n",
      "5:\t0.007578276097774506 +/- 0.0007304703001123361\n",
      "6:\t0.00839567743241787 +/- 0.0007753193700975897\n",
      "7:\t0.009310057386755943 +/- 0.0008153364115097842\n",
      "8:\t0.010072043165564537 +/- 0.0008465495938049539\n",
      "9:\t0.01102798618376255 +/- 0.0008883932561493445\n",
      "10:\t0.011762261390686035 +/- 0.0009100932962488494\n",
      "11:\t0.012787475250661373 +/- 0.0009512321445222445\n",
      "12:\t0.01390966959297657 +/- 0.0009830201958969031\n",
      "13:\t0.014782489277422428 +/- 0.0010129200055993457\n",
      "14:\t0.015669161453843117 +/- 0.0010418159214884365\n",
      "15:\t0.01655583269894123 +/- 0.0010674700879862388\n",
      "16:\t0.017345525324344635 +/- 0.001087210296348762\n",
      "17:\t0.01828761398792267 +/- 0.0011139358214868561\n",
      "18:\t0.019035745412111282 +/- 0.001131619083138587\n",
      "19:\t0.019673040136694908 +/- 0.0011459289315584294\n",
      "20:\t0.020421169698238373 +/- 0.001165818679792131\n",
      "21:\t0.021169297397136688 +/- 0.0011820079178113552\n",
      "22:\t0.021875867620110512 +/- 0.0011959778638228585\n",
      "23:\t0.022596288472414017 +/- 0.0012109525630722609\n",
      "24:\t0.023275146260857582 +/- 0.0012226262985790862\n",
      "25:\t0.024023273959755898 +/- 0.0012401315734071336\n",
      "26:\t0.02492380142211914 +/- 0.0012617039889614087\n",
      "27:\t0.025519536808133125 +/- 0.0012690790547690441\n",
      "28:\t0.02612912282347679 +/- 0.0012838903774120614\n",
      "29:\t0.02665558271110058 +/- 0.0012987222403017522\n",
      "30:\t0.027348294854164124 +/- 0.0013108733002019821\n",
      "31:\t0.02787475846707821 +/- 0.001321802172453922\n",
      "32:\t0.028387364000082016 +/- 0.001333517675993732\n",
      "33:\t0.028775285929441452 +/- 0.0013423352859035088\n",
      "34:\t0.02920476347208023 +/- 0.0013524678153701974\n",
      "35:\t0.029509559273719788 +/- 0.0013592891539421998\n",
      "36:\t0.029842060059309006 +/- 0.0013646376966680066\n",
      "37:\t0.030229981988668442 +/- 0.0013719621423698236\n",
      "38:\t0.03045164979994297 +/- 0.0013731148025722618\n",
      "39:\t0.03075644187629223 +/- 0.0013807560321621034\n",
      "40:\t0.031088942661881447 +/- 0.0013927629665658014\n",
      "41:\t0.031338322907686234 +/- 0.0013977216743170885\n",
      "42:\t0.03150457143783569 +/- 0.0014010045042017233\n",
      "43:\t0.03198947384953499 +/- 0.0014048884156145308\n",
      "44:\t0.03211415931582451 +/- 0.0014067849077623981\n",
      "45:\t0.03232197463512421 +/- 0.0014102756324449526\n",
      "46:\t0.032474372535943985 +/- 0.0014102422867725288\n",
      "47:\t0.032585203647613525 +/- 0.0014109729695223894\n",
      "48:\t0.03282072767615318 +/- 0.0014130309475426381\n",
      "49:\t0.03283458203077316 +/- 0.001410508794324554\n",
      "50:\t0.03313937410712242 +/- 0.0014155935796568862\n",
      "51:\t0.03333333507180214 +/- 0.0014178563585466855\n",
      "52:\t0.03358270972967148 +/- 0.00142303645406128\n",
      "53:\t0.033845942467451096 +/- 0.001427741545628747\n",
      "54:\t0.033887505531311035 +/- 0.001426441408174044\n",
      "55:\t0.034136880189180374 +/- 0.0014310236879737444\n",
      "56:\t0.034344691783189774 +/- 0.0014337852768706231\n",
      "57:\t0.03449708968400955 +/- 0.001434666530801118\n",
      "58:\t0.03460792824625969 +/- 0.0014337593222493036\n",
      "59:\t0.03485730290412903 +/- 0.001439277085668415\n",
      "60:\t0.03502355515956879 +/- 0.0014412264324259229\n",
      "61:\t0.035134389996528625 +/- 0.0014428598547199533\n",
      "62:\t0.035259075462818146 +/- 0.0014450723572737528\n",
      "63:\t0.035453032702207565 +/- 0.0014461182769474532\n",
      "64:\t0.035619284957647324 +/- 0.0014475126073325078\n",
      "65:\t0.03575782850384712 +/- 0.0014487506943349176\n",
      "66:\t0.03586866334080696 +/- 0.0014498370069623272\n",
      "67:\t0.03581324592232704 +/- 0.0014485310254207043\n",
      "68:\t0.03586865961551666 +/- 0.0014483103251970344\n",
      "69:\t0.03581324592232704 +/- 0.0014464931579348552\n",
      "70:\t0.035840954631567 +/- 0.0014456177480912798\n",
      "71:\t0.03593793511390686 +/- 0.0014476506309147562\n",
      "72:\t0.03606262430548668 +/- 0.0014482922772815472\n",
      "73:\t0.03613189235329628 +/- 0.0014491551395267364\n",
      "74:\t0.03614575043320656 +/- 0.0014471889480481071\n",
      "75:\t0.03617345541715622 +/- 0.0014478393605452777\n",
      "76:\t0.03627043589949608 +/- 0.0014493485100498117\n",
      "77:\t0.03631199896335602 +/- 0.0014495576939845519\n",
      "78:\t0.036464396864175797 +/- 0.001453874411599229\n",
      "79:\t0.03658908233046532 +/- 0.0014549963044028843\n",
      "80:\t0.036644499748945236 +/- 0.001454253589709366\n",
      "81:\t0.036699917167425156 +/- 0.001456044114810588\n",
      "82:\t0.036880023777484894 +/- 0.0014599476211030673\n",
      "83:\t0.03700471296906471 +/- 0.0014615506197681338\n",
      "84:\t0.036990854889154434 +/- 0.0014609803056387437\n",
      "85:\t0.03710169345140457 +/- 0.0014615033514180484\n",
      "86:\t0.03711554408073425 +/- 0.001463585221440704\n",
      "87:\t0.03711554780602455 +/- 0.0014620728061228913\n",
      "88:\t0.03725408762693405 +/- 0.0014667468724642119\n",
      "89:\t0.03742033988237381 +/- 0.0014690174721173888\n",
      "90:\t0.03740648552775383 +/- 0.0014674474753549273\n",
      "91:\t0.03743419423699379 +/- 0.001469080725764048\n",
      "92:\t0.03737877681851387 +/- 0.0014688277111774108\n",
      "93:\t0.03753117099404335 +/- 0.001469018503426845\n",
      "94:\t0.03760044649243355 +/- 0.001470835498804115\n",
      "95:\t0.03761429712176323 +/- 0.0014724010265589323\n",
      "96:\t0.03768356889486313 +/- 0.001472209374884951\n",
      "97:\t0.03766971454024315 +/- 0.0014696408986837836\n",
      "98:\t0.03766971454024315 +/- 0.0014681346712227092\n",
      "99:\t0.03773898631334305 +/- 0.0014704508203768774\n"
     ]
    }
   ],
   "source": [
    "model, precisions_at = fit_model(\n",
    "    epochs=100,\n",
    "    at=10,\n",
    "    loss=best_params[\"loss\"],\n",
    "    no_components=best_params[\"no_components\"], \n",
    "    learning_rate=best_params[\"learning_rate\"], \n",
    "    max_sampled=best_params[\"max_sampled\"],\n",
    "    user_alpha=best_params[\"user_alpha\"],\n",
    "    item_alpha=best_params[\"item_alpha\"],\n",
    "    verbose=True,\n",
    ")"
   ]
  },
  {
   "cell_type": "code",
   "execution_count": 34,
   "metadata": {},
   "outputs": [
    {
     "data": {
      "image/png": "[encoded data removed]",
      "text/plain": [
       "<Figure size 432x288 with 1 Axes>"
      ]
     },
     "metadata": {
      "needs_background": "light"
     },
     "output_type": "display_data"
    }
   ],
   "source": [
    "figure, ax = pl.subplots()\n",
    "\n",
    "ax.plot(np.arange(len(precisions_at)), precisions_at)\n",
    "\n",
    "pass"
   ]
  },
  {
   "cell_type": "markdown",
   "metadata": {},
   "source": [
    "## Save track embeddings"
   ]
  },
  {
   "cell_type": "code",
   "execution_count": 35,
   "metadata": {},
   "outputs": [],
   "source": [
    "biases, embeddings = model.get_item_representations()"
   ]
  },
  {
   "cell_type": "code",
   "execution_count": null,
   "metadata": {},
   "outputs": [],
   "source": [
    "model.item_biases *= 0.0"
   ]
  },
  {
   "cell_type": "code",
   "execution_count": 36,
   "metadata": {},
   "outputs": [],
   "source": [
    "track_meta = pd.read_json(DATA_DIR + \"tracks.json\", lines=True)\n",
    "track_meta[\"dataset_index\"] = track_meta[\"track\"].map(lambda t: dataset.mapping()[2].get(t))"
   ]
  },
  {
   "cell_type": "code",
   "execution_count": 37,
   "metadata": {},
   "outputs": [],
   "source": [
    "dataset_tracks = track_meta[pd.notnull(track_meta[\"dataset_index\"])].sort_values(\"dataset_index\")"
   ]
  },
  {
   "cell_type": "code",
   "execution_count": 38,
   "metadata": {},
   "outputs": [],
   "source": [
    "writer = tb.SummaryWriter(comment='msd_ligtfm_embeddings', log_dir=DATA_DIR + \"tb\")\n",
    "writer.add_embedding(embeddings, metadata=list(dataset_tracks[[\"artist\", \"title\"]].itertuples(index=False, name=None)), tag=\"lightfm\", metadata_header=[\"artist\", \"title\"])\n",
    "writer.close()"
   ]
  },
  {
   "cell_type": "markdown",
   "metadata": {},
   "source": [
    "## Compute top recommendations"
   ]
  },
  {
   "cell_type": "code",
   "execution_count": 39,
   "metadata": {},
   "outputs": [],
   "source": [
    "tracks = dataset_tracks[\"track\"].values\n",
    "users = [user for user, index in sorted(dataset.mapping()[0].items(), key=lambda kv: kv[1])]"
   ]
  },
  {
   "cell_type": "code",
   "execution_count": 40,
   "metadata": {},
   "outputs": [
    {
     "name": "stderr",
     "output_type": "stream",
     "text": [
      "100%|█████████████████████████████████████████████████████████████████████████████████████████████████████████████████████████████████████████████████████████████████| 8874/8874 [00:07<00:00, 1135.48it/s]\n"
     ]
    }
   ],
   "source": [
    "with open(DATA_DIR + \"recommendations.json\", \"w\") as rf:\n",
    "    for user_index in tqdm.tqdm(range(dataset.user_features_shape()[0])):\n",
    "        predictions = model.predict(user_index, np.arange(dataset.item_features_shape()[0]), num_threads=30)\n",
    "        top = tracks[np.argsort(predictions)[-100:]]\n",
    "        recommendation = {\n",
    "            \"user\": int(users[user_index]),\n",
    "            \"tracks\": [int(x) for x in top]\n",
    "        }\n",
    "        rf.write(json.dumps(recommendation) + \"\\n\")"
   ]
  },
  {
   "cell_type": "code",
   "execution_count": null,
   "metadata": {},
   "outputs": [],
   "source": []
  }
 ],
 "metadata": {
  "kernelspec": {
   "display_name": "venv_made_2022",
   "language": "python",
   "name": "venv_made_2022"
  },
  "language_info": {
   "codemirror_mode": {
    "name": "ipython",
    "version": 3
   },
   "file_extension": ".py",
   "mimetype": "text/x-python",
   "name": "python",
   "nbconvert_exporter": "python",
   "pygments_lexer": "ipython3",
   "version": "3.9.7"
  }
 },
 "nbformat": 4,
 "nbformat_minor": 4
}
